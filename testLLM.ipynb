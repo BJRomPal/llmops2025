{
 "cells": [
  {
   "cell_type": "code",
   "execution_count": 8,
   "id": "9225b1f0",
   "metadata": {},
   "outputs": [],
   "source": [
    "import os\n",
    "import pandas as pd\n",
    "import numpy as np\n",
    "import json\n",
    "import google.generativeai as genai\n",
    "from servicios.pydantic_model import ProductDimensions\n",
    "from dotenv import load_dotenv\n",
    "from tavily import TavilyClient"
   ]
  },
  {
   "cell_type": "code",
   "execution_count": null,
   "id": "65dfc1f9",
   "metadata": {},
   "outputs": [
    {
     "data": {
      "text/plain": [
       "'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'"
      ]
     },
     "execution_count": 3,
     "metadata": {},
     "output_type": "execute_result"
    }
   ],
   "source": [
    "load_dotenv()\n",
    "tavily_api_key = os.getenv(\"TAVILY_API_KEY\")\n",
    "google_api_key = os.getenv(\"GOOGLE_API_KEY\")\n"
   ]
  },
  {
   "cell_type": "code",
   "execution_count": 4,
   "id": "10cc8340",
   "metadata": {},
   "outputs": [],
   "source": [
    "df = pd.read_csv(\"files/test.csv\")\n",
    "df_llm = df.head(7).copy()"
   ]
  },
  {
   "cell_type": "code",
   "execution_count": 5,
   "id": "0dc9db9c",
   "metadata": {},
   "outputs": [],
   "source": [
    "tavily_client = TavilyClient(api_key=tavily_api_key)\n",
    "genai.configure(api_key=google_api_key)"
   ]
  },
  {
   "cell_type": "code",
   "execution_count": null,
   "id": "4fc06124",
   "metadata": {},
   "outputs": [],
   "source": [
    "def extraer_datos_con_gemini(contexto: str, nombre_producto: str) -> dict:\n",
    "    \"\"\"Usa Gemini para extraer las dimensiones del texto de búsqueda.\"\"\"\n",
    "    model = genai.GenerativeModel('gemini-2.5-flash')\n",
    "    \n",
    "    prompt = f\"\"\"\n",
    "    Basado en el siguiente contexto de búsqueda para el producto \"{nombre_producto}\", \n",
    "    extrae el alto, ancho, largo y peso.\n",
    "    \n",
    "    - Si encuentras las dimensiones exactas, úsalas.\n",
    "    - Si no las encuentras, busca dimensiones de productos muy similares mencionados en el contexto.\n",
    "    - Devuelve los valores como números flotantes (float).\n",
    "    - Tu respuesta DEBE ser únicamente un objeto JSON con las claves \"alto\", \"ancho\", \"largo\", \"peso\".\n",
    "    - En la clave \"fuente\" indica de que pagina web o fuente obtuviste la información.\n",
    "    - Si no encuentras la fuente, pon \"desconocida\".\n",
    "    - Si no puedes determinar alguno de los valores, intenta predecirlo basado en productos similares. determina que tipo de producto es y busca dimensiones típicas.\n",
    "    - Selecciona la opción más representativa y confiable, utiliza las medidas que a veces suelen estar en el nombre de la publicación o en las imagenes. \n",
    "    - Sé especialmente ágil y eficiente al estimar medidas y **sobretodo** peso físico.\n",
    "\n",
    "    Contexto:\n",
    "    ---\n",
    "    {contexto}\n",
    "    ---\n",
    "    \"\"\"\n",
    "    \n",
    "    try:\n",
    "        response = model.generate_content(prompt)\n",
    "        # Limpiar la respuesta para asegurar que sea un JSON válido\n",
    "        json_text = response.text.strip().replace(\"```json\", \"\").replace(\"```\", \"\")\n",
    "        return json.loads(json_text)\n",
    "    except (json.JSONDecodeError, Exception) as e:\n",
    "        print(f\"  - Error al procesar la respuesta de Gemini: {e}\")\n",
    "        return {}\n",
    "\n",
    "\n",
    "def buscar_dimensiones_producto(nombre_producto: str) -> dict:\n",
    "    \"\"\"Usa Tavily para buscar y Gemini para extraer las dimensiones.\"\"\"\n",
    "    print(f\"\\n🔎 Buscando con Tavily: '{nombre_producto}'...\")\n",
    "    \n",
    "    try:\n",
    "        # Búsqueda avanzada con Tavily\n",
    "        search_context = tavily_client.search(\n",
    "            query=f'dimensions (height, width, length, weight) for product \"{nombre_producto}\"',\n",
    "            search_depth=\"advanced\" # Búsqueda más profunda\n",
    "        )\n",
    "        \n",
    "        # Combinamos los resultados para dárselos a Gemini\n",
    "        contexto_combinado = \"\\n\".join([str(res) for res in search_context['results']])\n",
    "        \n",
    "        if not contexto_combinado:\n",
    "            print(\"  - Tavily no devolvió resultados.\")\n",
    "            return {}\n",
    "            \n",
    "        print(\"  - Resultados de Tavily obtenidos. Extrayendo con Gemini...\")\n",
    "        datos_extraidos = extraer_datos_con_gemini(contexto_combinado, nombre_producto)\n",
    "        \n",
    "        if datos_extraidos:\n",
    "            print(\"  - ✅ ¡Extracción con Gemini exitosa!\")\n",
    "            datos_extraidos['fuente'] = \"Tavily + Gemini\"\n",
    "            return datos_extraidos\n",
    "        else:\n",
    "            print(\"  - 🟡 Gemini no pudo extraer los datos del contexto.\")\n",
    "            return {}\n",
    "\n",
    "    except Exception as e:\n",
    "        print(f\"  - ❌ Error durante la búsqueda con Tavily: {e}\")\n",
    "        return {}"
   ]
  },
  {
   "cell_type": "code",
   "execution_count": 25,
   "id": "85c23110",
   "metadata": {},
   "outputs": [
    {
     "name": "stdout",
     "output_type": "stream",
     "text": [
      "\n",
      "Procesando producto: SDR Rear Bumper Step footstep Trim For Toyota Fortuner 2016 onwards\n",
      "\n",
      "🔎 Buscando con Tavily: 'SDR Rear Bumper Step footstep Trim For Toyota Fortuner 2016 onwards'...\n",
      "  - Resultados de Tavily obtenidos. Extrayendo con Gemini...\n",
      "  - ✅ ¡Extracción con Gemini exitosa!\n",
      "  - Dimensiones extraídas: alto=7.5 ancho=20.0 largo=75.0 peso=0.5 fuente='Tavily + Gemini'\n",
      "\n",
      "Procesando producto: ISEE 360® Car Bumper Sticker Exterior for Front Back Vinyl Checkered Flag Black Decals L X H 35 X 10 Cms\n",
      "\n",
      "🔎 Buscando con Tavily: 'ISEE 360® Car Bumper Sticker Exterior for Front Back Vinyl Checkered Flag Black Decals L X H 35 X 10 Cms'...\n",
      "  - Resultados de Tavily obtenidos. Extrayendo con Gemini...\n",
      "  - ✅ ¡Extracción con Gemini exitosa!\n",
      "  - Dimensiones extraídas: alto=10.0 ancho=0.1 largo=35.0 peso=250.0 fuente='Tavily + Gemini'\n",
      "\n",
      "Procesando producto: AUTOWORLD MAX BOLERO FRONT GRILL WITH CROME CENTRE BLACK FOR MAHINDRA BOLERO TYPE-3\n",
      "\n",
      "🔎 Buscando con Tavily: 'AUTOWORLD MAX BOLERO FRONT GRILL WITH CROME CENTRE BLACK FOR MAHINDRA BOLERO TYPE-3'...\n",
      "  - Resultados de Tavily obtenidos. Extrayendo con Gemini...\n",
      "  - ✅ ¡Extracción con Gemini exitosa!\n",
      "  - Dimensiones extraídas: alto=0.45 ancho=0.1 largo=1.2 peso=3.5 fuente='Tavily + Gemini'\n",
      "\n",
      "Procesando producto: RS ENTERPRISES CARS Maruti Suzuki Swift 2010 Car Chrome Dicky Garnish, Silver Chrome Line.\n",
      "\n",
      "🔎 Buscando con Tavily: 'RS ENTERPRISES CARS Maruti Suzuki Swift 2010 Car Chrome Dicky Garnish, Silver Chrome Line.'...\n",
      "  - Resultados de Tavily obtenidos. Extrayendo con Gemini...\n",
      "  - ✅ ¡Extracción con Gemini exitosa!\n",
      "  - Dimensiones extraídas: alto=1.5 ancho=4.0 largo=28.0 peso=0.45 fuente='Tavily + Gemini'\n",
      "\n",
      "Procesando producto: Car Power Outlet Receptacle, 12V 24V Auto Cigarette Lighter Socket Dustproof 10A Female Interface Waterproof for Motorcycl...\n",
      "\n",
      "🔎 Buscando con Tavily: 'Car Power Outlet Receptacle, 12V 24V Auto Cigarette Lighter Socket Dustproof 10A Female Interface Waterproof for Motorcycl...'...\n",
      "  - Resultados de Tavily obtenidos. Extrayendo con Gemini...\n",
      "  - ✅ ¡Extracción con Gemini exitosa!\n",
      "  - Dimensiones extraídas: alto=5.08 ancho=5.08 largo=7.62 peso=0.054431 fuente='Tavily + Gemini'\n",
      "\n",
      "Procesando producto: Door Sill/Foot Step Stainless Steel Plates with Toyota Urban Cruiser (Set of 4 Pcs)\n",
      "\n",
      "🔎 Buscando con Tavily: 'Door Sill/Foot Step Stainless Steel Plates with Toyota Urban Cruiser (Set of 4 Pcs)'...\n",
      "  - Resultados de Tavily obtenidos. Extrayendo con Gemini...\n",
      "  - ✅ ¡Extracción con Gemini exitosa!\n",
      "  - Dimensiones extraídas: alto=5.0 ancho=8.0 largo=28.0 peso=500.0 fuente='Tavily + Gemini'\n",
      "\n",
      "Procesando producto: NIKAVI DP2 Front Brake Disc Pad Compatible for Honda Unicorn / Passion / Jawa 42 (Front) + NKVKC\n",
      "\n",
      "🔎 Buscando con Tavily: 'NIKAVI DP2 Front Brake Disc Pad Compatible for Honda Unicorn / Passion / Jawa 42 (Front) + NKVKC'...\n",
      "  - Resultados de Tavily obtenidos. Extrayendo con Gemini...\n",
      "  - ✅ ¡Extracción con Gemini exitosa!\n",
      "  - Dimensiones extraídas: alto=10.0 ancho=5.0 largo=10.0 peso=270.0 fuente='Tavily + Gemini'\n"
     ]
    }
   ],
   "source": [
    "for name in df_llm['name']:\n",
    "    print(f\"\\nProcesando producto: {name}\")\n",
    "    dimensiones = buscar_dimensiones_producto(name)\n",
    "    productos = []\n",
    "    if dimensiones:\n",
    "        try:\n",
    "            producto = ProductDimensions(**dimensiones)\n",
    "            print(f\"  - Dimensiones extraídas: {producto}\")\n",
    "            productos.append(producto)\n",
    "        except Exception as e:\n",
    "            print(f\"  - Error al validar las dimensiones con Pydantic: {e}\")\n",
    "    else:\n",
    "        print(\"  - No se pudieron extraer dimensiones para este producto.\")"
   ]
  },
  {
   "cell_type": "code",
   "execution_count": 18,
   "id": "a467043c",
   "metadata": {},
   "outputs": [
    {
     "data": {
      "text/plain": [
       "[ProductDimensions(alto=8.0, ancho=6.0, largo=8.0, peso=140.0, fuente='Tavily + Gemini')]"
      ]
     },
     "execution_count": 18,
     "metadata": {},
     "output_type": "execute_result"
    }
   ],
   "source": [
    "productos"
   ]
  },
  {
   "cell_type": "code",
   "execution_count": null,
   "id": "1aa1feab",
   "metadata": {},
   "outputs": [],
   "source": [
    "def extraer_datos_con_gemini(contexto: str, nombre_producto: str) -> dict:\n",
    "    \"\"\"Usa Gemini para extraer las dimensiones del texto de búsqueda.\"\"\"\n",
    "    model = genai.GenerativeModel('gemini-2.5-flash')\n",
    "    \n",
    "    prompt = f\"\"\"\n",
    "    Basado en el siguiente contexto de búsqueda para el producto \"{nombre_producto}\", \n",
    "    Actuás como un analista especializado en pesos y medidas de productos. \n",
    "    Tu tarea consiste en analizar las medidas físicas de productos a partir de la información que te proporcionamos.\n",
    "    Objetivo: Tu objetivo es estimar y devolver, para cada ítem: Alto (cm) Ancho (cm) Largo (cm) Peso (kg) \n",
    "    Podés ayudarte con publicaciones de sitios oficial o similares para inferir medidas realistas. \n",
    "    Selecciona la opción más representativa y confiable, utiliza las medidas que a veces suelen estar en el nombre de la publicación o en las imagenes. \n",
    "    Sé especialmente ágil y eficiente al estimar medidas y peso físico en los siguientes casos frecuentes: Usá la imagen si está disponible para inferir medidas.\n",
    "\n",
    "    Contexto:\n",
    "    ---\n",
    "    {contexto}\n",
    "    ---\n",
    "    \"\"\"\n",
    "    \n",
    "    try:\n",
    "        response = model.generate_content(prompt)\n",
    "        # Limpiar la respuesta para asegurar que sea un JSON válido\n",
    "        json_text = response.text.strip().replace(\"```json\", \"\").replace(\"```\", \"\")\n",
    "        return json.loads(json_text)\n",
    "    except (json.JSONDecodeError, Exception) as e:\n",
    "        print(f\"  - Error al procesar la respuesta de Gemini: {e}\")\n",
    "        return {}"
   ]
  }
 ],
 "metadata": {
  "kernelspec": {
   "display_name": "llmops",
   "language": "python",
   "name": "python3"
  },
  "language_info": {
   "codemirror_mode": {
    "name": "ipython",
    "version": 3
   },
   "file_extension": ".py",
   "mimetype": "text/x-python",
   "name": "python",
   "nbconvert_exporter": "python",
   "pygments_lexer": "ipython3",
   "version": "3.12.11"
  }
 },
 "nbformat": 4,
 "nbformat_minor": 5
}
