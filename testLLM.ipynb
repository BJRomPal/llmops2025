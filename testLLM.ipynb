{
 "cells": [
  {
   "cell_type": "code",
   "execution_count": 1,
   "id": "9225b1f0",
   "metadata": {},
   "outputs": [
    {
     "name": "stderr",
     "output_type": "stream",
     "text": [
      "/home/mariano/anaconda3/envs/llmops/lib/python3.12/site-packages/tqdm/auto.py:21: TqdmWarning: IProgress not found. Please update jupyter and ipywidgets. See https://ipywidgets.readthedocs.io/en/stable/user_install.html\n",
      "  from .autonotebook import tqdm as notebook_tqdm\n"
     ]
    }
   ],
   "source": [
    "import os\n",
    "import pandas as pd\n",
    "import numpy as np\n",
    "import json\n",
    "import google.generativeai as genai\n",
    "from servicios.pydantic_model import ProductDimensions\n",
    "from dotenv import load_dotenv\n",
    "from tavily import TavilyClient"
   ]
  },
  {
   "cell_type": "code",
   "execution_count": 11,
   "id": "65dfc1f9",
   "metadata": {},
   "outputs": [],
   "source": [
    "load_dotenv()\n",
    "tavily_api_key = os.getenv(\"TAVILY_API_KEY\")\n",
    "google_api_key = os.getenv(\"GOOGLE_API_KEY\")\n"
   ]
  },
  {
   "cell_type": "code",
   "execution_count": 3,
   "id": "10cc8340",
   "metadata": {},
   "outputs": [],
   "source": [
    "df = pd.read_csv(\"files/test.csv\")\n",
    "df_llm = df.head(7).copy()"
   ]
  },
  {
   "cell_type": "code",
   "execution_count": 5,
   "id": "83be4038",
   "metadata": {},
   "outputs": [
    {
     "data": {
      "text/plain": [
       "np.int64(66050)"
      ]
     },
     "execution_count": 5,
     "metadata": {},
     "output_type": "execute_result"
    }
   ],
   "source": [
    "total_facturado = df_llm['tarifa'].sum()\n",
    "total_facturado"
   ]
  },
  {
   "cell_type": "code",
   "execution_count": null,
   "id": "dfd807a9",
   "metadata": {},
   "outputs": [
    {
     "data": {
      "text/plain": [
       "np.int64(67050)"
      ]
     },
     "execution_count": 6,
     "metadata": {},
     "output_type": "execute_result"
    }
   ],
   "source": []
  },
  {
   "cell_type": "code",
   "execution_count": 12,
   "id": "0dc9db9c",
   "metadata": {},
   "outputs": [],
   "source": [
    "tavily_client = TavilyClient(api_key=tavily_api_key)\n",
    "genai.configure(api_key=google_api_key)"
   ]
  },
  {
   "cell_type": "code",
   "execution_count": 9,
   "id": "4fc06124",
   "metadata": {},
   "outputs": [],
   "source": [
    "def extraer_datos_con_gemini(contexto: str, nombre_producto: str) -> dict:\n",
    "    \"\"\"Usa Gemini para extraer las dimensiones del texto de búsqueda.\"\"\"\n",
    "    model = genai.GenerativeModel('gemini-2.5-flash')\n",
    "    \n",
    "    prompt = f\"\"\"\n",
    "    Basado en el siguiente contexto de búsqueda para el producto \"{nombre_producto}\", \n",
    "    extrae el alto, ancho, largo y peso.\n",
    "    \n",
    "    - Si encuentras las dimensiones exactas, úsalas.\n",
    "    - Si no las encuentras, busca dimensiones de productos muy similares mencionados en el contexto.\n",
    "    - Devuelve los valores como números flotantes (float).\n",
    "    - Tu respuesta DEBE ser únicamente un objeto JSON con las claves \"alto\", \"ancho\", \"largo\", \"peso\".\n",
    "    - En la clave \"fuente\" indica de que pagina web o fuente obtuviste la información.\n",
    "    - Si no encuentras la fuente, pon \"desconocida\".\n",
    "    - Si no puedes determinar alguno de los valores, intenta predecirlo basado en productos similares. determina que tipo de producto es y busca dimensiones típicas.\n",
    "    - Selecciona la opción más representativa y confiable, utiliza las medidas que a veces suelen estar en el nombre de la publicación o en las imagenes. \n",
    "    - Sé especialmente ágil y eficiente al estimar medidas y **sobretodo** peso físico.\n",
    "\n",
    "    Contexto:\n",
    "    ---\n",
    "    {contexto}\n",
    "    ---\n",
    "    \"\"\"\n",
    "    \n",
    "    try:\n",
    "        response = model.generate_content(prompt)\n",
    "        # Limpiar la respuesta para asegurar que sea un JSON válido\n",
    "        json_text = response.text.strip().replace(\"```json\", \"\").replace(\"```\", \"\")\n",
    "        return json.loads(json_text)\n",
    "    except (json.JSONDecodeError, Exception) as e:\n",
    "        print(f\"  - Error al procesar la respuesta de Gemini: {e}\")\n",
    "        return {}\n",
    "\n",
    "\n",
    "def buscar_dimensiones_producto(nombre_producto: str) -> dict:\n",
    "    \"\"\"Usa Tavily para buscar y Gemini para extraer las dimensiones.\"\"\"\n",
    "    print(f\"\\n🔎 Buscando con Tavily: '{nombre_producto}'...\")\n",
    "    \n",
    "    try:\n",
    "        # Búsqueda avanzada con Tavily\n",
    "        search_context = tavily_client.search(\n",
    "            query=f'dimensions (height, width, length, weight) for product \"{nombre_producto}\"',\n",
    "            search_depth=\"advanced\" # Búsqueda más profunda\n",
    "        )\n",
    "        \n",
    "        # Combinamos los resultados para dárselos a Gemini\n",
    "        contexto_combinado = \"\\n\".join([str(res) for res in search_context['results']])\n",
    "        \n",
    "        if not contexto_combinado:\n",
    "            print(\"  - Tavily no devolvió resultados.\")\n",
    "            return {}\n",
    "            \n",
    "        print(\"  - Resultados de Tavily obtenidos. Extrayendo con Gemini...\")\n",
    "        datos_extraidos = extraer_datos_con_gemini(contexto_combinado, nombre_producto)\n",
    "        \n",
    "        if datos_extraidos:\n",
    "            print(\"  - ✅ ¡Extracción con Gemini exitosa!\")\n",
    "            datos_extraidos['fuente'] = \"Tavily + Gemini\"\n",
    "            return datos_extraidos\n",
    "        else:\n",
    "            print(\"  - 🟡 Gemini no pudo extraer los datos del contexto.\")\n",
    "            return {}\n",
    "\n",
    "    except Exception as e:\n",
    "        print(f\"  - ❌ Error durante la búsqueda con Tavily: {e}\")\n",
    "        return {}"
   ]
  },
  {
   "cell_type": "code",
   "execution_count": null,
   "id": "85c23110",
   "metadata": {},
   "outputs": [
    {
     "name": "stdout",
     "output_type": "stream",
     "text": [
      "\n",
      "Procesando producto: SDR Rear Bumper Step footstep Trim For Toyota Fortuner 2016 onwards\n",
      "\n",
      "🔎 Buscando con Tavily: 'SDR Rear Bumper Step footstep Trim For Toyota Fortuner 2016 onwards'...\n",
      "  - Resultados de Tavily obtenidos. Extrayendo con Gemini...\n",
      "  - ✅ ¡Extracción con Gemini exitosa!\n",
      "  - Dimensiones extraídas: alto=5.0 ancho=20.0 largo=110.0 peso=0.5 fuente='Tavily + Gemini'\n",
      "\n",
      "Procesando producto: ISEE 360® Car Bumper Sticker Exterior for Front Back Vinyl Checkered Flag Black Decals L X H 35 X 10 Cms\n",
      "\n",
      "🔎 Buscando con Tavily: 'ISEE 360® Car Bumper Sticker Exterior for Front Back Vinyl Checkered Flag Black Decals L X H 35 X 10 Cms'...\n",
      "  - Resultados de Tavily obtenidos. Extrayendo con Gemini...\n",
      "  - ✅ ¡Extracción con Gemini exitosa!\n",
      "  - Dimensiones extraídas: alto=10.0 ancho=0.1 largo=35.0 peso=47.25 fuente='Tavily + Gemini'\n",
      "\n",
      "Procesando producto: AUTOWORLD MAX BOLERO FRONT GRILL WITH CROME CENTRE BLACK FOR MAHINDRA BOLERO TYPE-3\n",
      "\n",
      "🔎 Buscando con Tavily: 'AUTOWORLD MAX BOLERO FRONT GRILL WITH CROME CENTRE BLACK FOR MAHINDRA BOLERO TYPE-3'...\n",
      "  - Resultados de Tavily obtenidos. Extrayendo con Gemini...\n",
      "  - ✅ ¡Extracción con Gemini exitosa!\n",
      "  - Dimensiones extraídas: alto=0.55 ancho=1.3 largo=0.12 peso=4.0 fuente='Tavily + Gemini'\n",
      "\n",
      "Procesando producto: RS ENTERPRISES CARS Maruti Suzuki Swift 2010 Car Chrome Dicky Garnish, Silver Chrome Line.\n",
      "\n",
      "🔎 Buscando con Tavily: 'RS ENTERPRISES CARS Maruti Suzuki Swift 2010 Car Chrome Dicky Garnish, Silver Chrome Line.'...\n",
      "  - Resultados de Tavily obtenidos. Extrayendo con Gemini...\n",
      "  - ✅ ¡Extracción con Gemini exitosa!\n",
      "  - Dimensiones extraídas: alto=0.01 ancho=0.04 largo=0.28 peso=0.35 fuente='Tavily + Gemini'\n",
      "\n",
      "Procesando producto: Car Power Outlet Receptacle, 12V 24V Auto Cigarette Lighter Socket Dustproof 10A Female Interface Waterproof for Motorcycl...\n",
      "\n",
      "🔎 Buscando con Tavily: 'Car Power Outlet Receptacle, 12V 24V Auto Cigarette Lighter Socket Dustproof 10A Female Interface Waterproof for Motorcycl...'...\n",
      "  - Resultados de Tavily obtenidos. Extrayendo con Gemini...\n",
      "  - ✅ ¡Extracción con Gemini exitosa!\n",
      "  - Dimensiones extraídas: alto=2.9972 ancho=2.9972 largo=6.5024 peso=0.054431 fuente='Tavily + Gemini'\n",
      "\n",
      "Procesando producto: Door Sill/Foot Step Stainless Steel Plates with Toyota Urban Cruiser (Set of 4 Pcs)\n",
      "\n",
      "🔎 Buscando con Tavily: 'Door Sill/Foot Step Stainless Steel Plates with Toyota Urban Cruiser (Set of 4 Pcs)'...\n",
      "  - Resultados de Tavily obtenidos. Extrayendo con Gemini...\n",
      "  - ✅ ¡Extracción con Gemini exitosa!\n",
      "  - Dimensiones extraídas: alto=5.0 ancho=8.0 largo=28.0 peso=0.5 fuente='Tavily + Gemini'\n",
      "\n",
      "Procesando producto: NIKAVI DP2 Front Brake Disc Pad Compatible for Honda Unicorn / Passion / Jawa 42 (Front) + NKVKC\n",
      "\n",
      "🔎 Buscando con Tavily: 'NIKAVI DP2 Front Brake Disc Pad Compatible for Honda Unicorn / Passion / Jawa 42 (Front) + NKVKC'...\n",
      "  - Resultados de Tavily obtenidos. Extrayendo con Gemini...\n",
      "  - ✅ ¡Extracción con Gemini exitosa!\n",
      "  - Dimensiones extraídas: alto=10.0 ancho=5.0 largo=10.0 peso=270.0 fuente='Tavily + Gemini'\n"
     ]
    }
   ],
   "source": [
    "productos = []\n",
    "for name in df_llm['name']:\n",
    "    print(f\"\\nProcesando producto: {name}\")\n",
    "    dimensiones = buscar_dimensiones_producto(name)\n",
    "    if dimensiones:\n",
    "        try:\n",
    "            producto = ProductDimensions(**dimensiones)\n",
    "            print(f\"  - Dimensiones extraídas: {producto}\")\n",
    "            productos.append(producto)\n",
    "        except Exception as e:\n",
    "            print(f\"  - Error al validar las dimensiones con Pydantic: {e}\")\n",
    "    else:\n",
    "        print(\"  - No se pudieron extraer dimensiones para este producto.\")"
   ]
  },
  {
   "cell_type": "code",
   "execution_count": 39,
   "id": "a467043c",
   "metadata": {},
   "outputs": [
    {
     "name": "stdout",
     "output_type": "stream",
     "text": [
      "Alto: 10.0 cm\n",
      "Ancho: 5.0 cm\n",
      "Largo: 10.0 cm\n",
      "Peso: 270.0 g\n"
     ]
    }
   ],
   "source": [
    "producto_encontrado = productos[0]\n",
    "\n",
    "alto_valor = producto_encontrado.alto\n",
    "ancho_valor = producto_encontrado.ancho\n",
    "largo_valor = producto_encontrado.largo\n",
    "peso_valor = producto_encontrado.peso # En gramos, según el ejemplo\n",
    "\n",
    "print(f\"Alto: {alto_valor} cm\")\n",
    "print(f\"Ancho: {ancho_valor} cm\")\n",
    "print(f\"Largo: {largo_valor} cm\")\n",
    "print(f\"Peso: {peso_valor} g\")"
   ]
  },
  {
   "cell_type": "code",
   "execution_count": null,
   "id": "2589fbb1",
   "metadata": {},
   "outputs": [
    {
     "name": "stdout",
     "output_type": "stream",
     "text": [
      "RMKeyView(['id', 'periodo', 'proveedor', 'track_code', 'ambito', 'tipo_servicio', 'name', 'main_category', 'sub_category', 'category', 'alto', 'ancho', 'largo', 'peso_aforado', 'peso_fisico', 'peso_facturable', 'tarifa'])\n",
      "[(10846, 202511, 'BoxFast', 'BFX42754874321X', 2, '24hs', 'SDR Rear Bumper Step footstep Trim For Toyota Fortuner 2016 onwards', 'car & motorbike', 'Car Parts', 'Car_Parts', Decimal('32.00'), Decimal('18.00'), Decimal('69.00'), Decimal('13.25'), Decimal('12.20'), Decimal('13.25'), Decimal('5600.00')), (10847, 202511, 'BoxFast', 'BFX45088662684X', 2, '24hs', 'ISEE 360® Car Bumper Sticker Exterior for Front Back Vinyl Checkered Flag Black Decals L X H 35 X 10 Cms', 'car & motorbike', 'Car Parts', 'Car_Parts', Decimal('67.00'), Decimal('50.00'), Decimal('30.00'), Decimal('33.50'), Decimal('19.77'), Decimal('33.50'), Decimal('10100.00')), (10848, 202511, 'BoxFast', 'BFX45832574342X', 2, '72hs', 'AUTOWORLD MAX BOLERO FRONT GRILL WITH CROME CENTRE BLACK FOR MAHINDRA BOLERO TYPE-3', 'car & motorbike', 'Car Parts', 'Car_Parts', Decimal('79.00'), Decimal('78.00'), Decimal('16.00'), Decimal('32.86'), Decimal('3.90'), Decimal('32.86'), Decimal('6750.00')), (10849, 202511, 'BoxFast', 'BFX42626137451X', 1, '24hs', 'RS ENTERPRISES CARS Maruti Suzuki Swift 2010 Car Chrome Dicky Garnish, Silver Chrome Line.', 'car & motorbike', 'Car Parts', 'Car_Parts', Decimal('31.00'), Decimal('36.00'), Decimal('64.00'), Decimal('23.81'), Decimal('6.68'), Decimal('23.81'), Decimal('6300.00')), (10850, 202511, 'BoxFast', 'BFX47649567279X', 1, '72hs', 'Car Power Outlet Receptacle, 12V 24V Auto Cigarette Lighter Socket Dustproof 10A Female Interface Waterproof for Motorcycl...', 'car & motorbike', 'Car Parts', 'Car_Parts', Decimal('98.00'), Decimal('75.00'), Decimal('102.00'), Decimal('249.90'), Decimal('13.85'), Decimal('249.90'), Decimal('10500.00'))]\n"
     ]
    }
   ],
   "source": [
    "from servicios.consulta_invoices import trae_invoices\n",
    "from servicios.consulta_tarificacion import trae_tarifas\n",
    "\n",
    "df = trae_invoices(202511)\n",
    "tarifas = trae_tarifas()\n"
   ]
  },
  {
   "cell_type": "code",
   "execution_count": 17,
   "id": "31255db7",
   "metadata": {},
   "outputs": [
    {
     "data": {
      "text/html": [
       "<div>\n",
       "<style scoped>\n",
       "    .dataframe tbody tr th:only-of-type {\n",
       "        vertical-align: middle;\n",
       "    }\n",
       "\n",
       "    .dataframe tbody tr th {\n",
       "        vertical-align: top;\n",
       "    }\n",
       "\n",
       "    .dataframe thead th {\n",
       "        text-align: right;\n",
       "    }\n",
       "</style>\n",
       "<table border=\"1\" class=\"dataframe\">\n",
       "  <thead>\n",
       "    <tr style=\"text-align: right;\">\n",
       "      <th></th>\n",
       "      <th>id</th>\n",
       "      <th>periodo</th>\n",
       "      <th>proveedor</th>\n",
       "      <th>track_code</th>\n",
       "      <th>ambito</th>\n",
       "      <th>tipo_servicio</th>\n",
       "      <th>name</th>\n",
       "      <th>main_category</th>\n",
       "      <th>sub_category</th>\n",
       "      <th>category</th>\n",
       "      <th>alto</th>\n",
       "      <th>ancho</th>\n",
       "      <th>largo</th>\n",
       "      <th>peso_aforado</th>\n",
       "      <th>peso_fisico</th>\n",
       "      <th>peso_facturable</th>\n",
       "      <th>tarifa</th>\n",
       "    </tr>\n",
       "  </thead>\n",
       "  <tbody>\n",
       "    <tr>\n",
       "      <th>0</th>\n",
       "      <td>10846</td>\n",
       "      <td>202511</td>\n",
       "      <td>BoxFast</td>\n",
       "      <td>BFX42754874321X</td>\n",
       "      <td>2</td>\n",
       "      <td>24hs</td>\n",
       "      <td>SDR Rear Bumper Step footstep Trim For Toyota ...</td>\n",
       "      <td>car &amp; motorbike</td>\n",
       "      <td>Car Parts</td>\n",
       "      <td>Car_Parts</td>\n",
       "      <td>32.00</td>\n",
       "      <td>18.00</td>\n",
       "      <td>69.00</td>\n",
       "      <td>13.25</td>\n",
       "      <td>12.20</td>\n",
       "      <td>13.25</td>\n",
       "      <td>5600.00</td>\n",
       "    </tr>\n",
       "  </tbody>\n",
       "</table>\n",
       "</div>"
      ],
      "text/plain": [
       "      id  periodo proveedor       track_code  ambito tipo_servicio  \\\n",
       "0  10846   202511   BoxFast  BFX42754874321X       2          24hs   \n",
       "\n",
       "                                                name    main_category  \\\n",
       "0  SDR Rear Bumper Step footstep Trim For Toyota ...  car & motorbike   \n",
       "\n",
       "  sub_category   category   alto  ancho  largo peso_aforado peso_fisico  \\\n",
       "0    Car Parts  Car_Parts  32.00  18.00  69.00        13.25       12.20   \n",
       "\n",
       "  peso_facturable   tarifa  \n",
       "0           13.25  5600.00  "
      ]
     },
     "execution_count": 17,
     "metadata": {},
     "output_type": "execute_result"
    }
   ],
   "source": [
    "df.head(1)"
   ]
  },
  {
   "cell_type": "code",
   "execution_count": null,
   "id": "7408dd2c",
   "metadata": {},
   "outputs": [
    {
     "data": {
      "text/html": [
       "<div>\n",
       "<style scoped>\n",
       "    .dataframe tbody tr th:only-of-type {\n",
       "        vertical-align: middle;\n",
       "    }\n",
       "\n",
       "    .dataframe tbody tr th {\n",
       "        vertical-align: top;\n",
       "    }\n",
       "\n",
       "    .dataframe thead th {\n",
       "        text-align: right;\n",
       "    }\n",
       "</style>\n",
       "<table border=\"1\" class=\"dataframe\">\n",
       "  <thead>\n",
       "    <tr style=\"text-align: right;\">\n",
       "      <th></th>\n",
       "      <th>id</th>\n",
       "      <th>proveedor</th>\n",
       "      <th>fecha_inicio</th>\n",
       "      <th>fecha_fin</th>\n",
       "      <th>ambito</th>\n",
       "      <th>tipo_de_servicio</th>\n",
       "      <th>rango_desde</th>\n",
       "      <th>rango_hasta</th>\n",
       "      <th>tarifa</th>\n",
       "    </tr>\n",
       "  </thead>\n",
       "  <tbody>\n",
       "    <tr>\n",
       "      <th>0</th>\n",
       "      <td>1</td>\n",
       "      <td>BoxFast</td>\n",
       "      <td>2025-07-01</td>\n",
       "      <td>2025-12-31</td>\n",
       "      <td>1</td>\n",
       "      <td>24hs</td>\n",
       "      <td>0</td>\n",
       "      <td>5</td>\n",
       "      <td>2700.00</td>\n",
       "    </tr>\n",
       "  </tbody>\n",
       "</table>\n",
       "</div>"
      ],
      "text/plain": [
       "   id proveedor fecha_inicio   fecha_fin ambito tipo_de_servicio  rango_desde  \\\n",
       "0   1   BoxFast   2025-07-01  2025-12-31      1             24hs            0   \n",
       "\n",
       "   rango_hasta   tarifa  \n",
       "0            5  2700.00  "
      ]
     },
     "execution_count": 18,
     "metadata": {},
     "output_type": "execute_result"
    }
   ],
   "source": [
    "tarifas.head(1)"
   ]
  },
  {
   "cell_type": "code",
   "execution_count": 19,
   "id": "9879af6f",
   "metadata": {},
   "outputs": [
    {
     "data": {
      "text/plain": [
       "99"
      ]
     },
     "execution_count": 19,
     "metadata": {},
     "output_type": "execute_result"
    }
   ],
   "source": [
    "len(tarifas)"
   ]
  },
  {
   "cell_type": "code",
   "execution_count": 20,
   "id": "dd287eb7",
   "metadata": {},
   "outputs": [
    {
     "data": {
      "text/plain": [
       "Index(['id', 'proveedor', 'fecha_inicio', 'fecha_fin', 'ambito',\n",
       "       'tipo_de_servicio', 'rango_desde', 'rango_hasta', 'tarifa'],\n",
       "      dtype='object')"
      ]
     },
     "execution_count": 20,
     "metadata": {},
     "output_type": "execute_result"
    }
   ],
   "source": [
    "tarifas.columns"
   ]
  },
  {
   "cell_type": "code",
   "execution_count": null,
   "id": "5d536a96",
   "metadata": {},
   "outputs": [
    {
     "name": "stdout",
     "output_type": "stream",
     "text": [
      "\n",
      "Procesando producto: SDR Rear Bumper Step footstep Trim For Toyota Fortuner 2016 onwards\n",
      "\n",
      "🔎 Buscando con Tavily: 'SDR Rear Bumper Step footstep Trim For Toyota Fortuner 2016 onwards'...\n",
      "  - Resultados de Tavily obtenidos. Extrayendo con Gemini...\n",
      "  - ✅ ¡Extracción con Gemini exitosa!\n",
      "  - Dimensiones extraídas: alto=3.0 ancho=12.0 largo=90.0 peso=0.5 fuente='Tavily + Gemini'\n",
      "{'id': 10846, 'ambito': 2, 'tipo_servicio': '24hs', 'alto_cm': 3.0, 'ancho_cm': 12.0, 'largo_cm': 90.0, 'peso_g': 0.5, 'peso_aforado_kg': 0.81, 'peso_facturable_kg': 0.81, 'tarifa_real': Empty DataFrame\n",
      "Columns: [id, proveedor, fecha_inicio, fecha_fin, ambito, tipo_de_servicio, rango_desde, rango_hasta, tarifa]\n",
      "Index: []}\n",
      "\n",
      "Procesando producto: ISEE 360® Car Bumper Sticker Exterior for Front Back Vinyl Checkered Flag Black Decals L X H 35 X 10 Cms\n",
      "\n",
      "🔎 Buscando con Tavily: 'ISEE 360® Car Bumper Sticker Exterior for Front Back Vinyl Checkered Flag Black Decals L X H 35 X 10 Cms'...\n",
      "  - Resultados de Tavily obtenidos. Extrayendo con Gemini...\n"
     ]
    },
    {
     "ename": "KeyboardInterrupt",
     "evalue": "",
     "output_type": "error",
     "traceback": [
      "\u001b[31m---------------------------------------------------------------------------\u001b[39m",
      "\u001b[31mKeyboardInterrupt\u001b[39m                         Traceback (most recent call last)",
      "\u001b[36mCell\u001b[39m\u001b[36m \u001b[39m\u001b[32mIn[23]\u001b[39m\u001b[32m, line 4\u001b[39m\n\u001b[32m      2\u001b[39m \u001b[38;5;28;01mfor\u001b[39;00m row \u001b[38;5;129;01min\u001b[39;00m df.itertuples():\n\u001b[32m      3\u001b[39m     \u001b[38;5;28mprint\u001b[39m(\u001b[33mf\u001b[39m\u001b[33m\"\u001b[39m\u001b[38;5;130;01m\\n\u001b[39;00m\u001b[33mProcesando producto: \u001b[39m\u001b[38;5;132;01m{\u001b[39;00mrow.name\u001b[38;5;132;01m}\u001b[39;00m\u001b[33m\"\u001b[39m)\n\u001b[32m----> \u001b[39m\u001b[32m4\u001b[39m     dimensiones = \u001b[43mbuscar_dimensiones_producto\u001b[49m\u001b[43m(\u001b[49m\u001b[43mrow\u001b[49m\u001b[43m.\u001b[49m\u001b[43mname\u001b[49m\u001b[43m)\u001b[49m\n\u001b[32m      5\u001b[39m     \u001b[38;5;28;01mif\u001b[39;00m dimensiones:\n\u001b[32m      6\u001b[39m         \u001b[38;5;28;01mtry\u001b[39;00m:\n",
      "\u001b[36mCell\u001b[39m\u001b[36m \u001b[39m\u001b[32mIn[9]\u001b[39m\u001b[32m, line 54\u001b[39m, in \u001b[36mbuscar_dimensiones_producto\u001b[39m\u001b[34m(nombre_producto)\u001b[39m\n\u001b[32m     51\u001b[39m     \u001b[38;5;28;01mreturn\u001b[39;00m {}\n\u001b[32m     53\u001b[39m \u001b[38;5;28mprint\u001b[39m(\u001b[33m\"\u001b[39m\u001b[33m  - Resultados de Tavily obtenidos. Extrayendo con Gemini...\u001b[39m\u001b[33m\"\u001b[39m)\n\u001b[32m---> \u001b[39m\u001b[32m54\u001b[39m datos_extraidos = \u001b[43mextraer_datos_con_gemini\u001b[49m\u001b[43m(\u001b[49m\u001b[43mcontexto_combinado\u001b[49m\u001b[43m,\u001b[49m\u001b[43m \u001b[49m\u001b[43mnombre_producto\u001b[49m\u001b[43m)\u001b[49m\n\u001b[32m     56\u001b[39m \u001b[38;5;28;01mif\u001b[39;00m datos_extraidos:\n\u001b[32m     57\u001b[39m     \u001b[38;5;28mprint\u001b[39m(\u001b[33m\"\u001b[39m\u001b[33m  - ✅ ¡Extracción con Gemini exitosa!\u001b[39m\u001b[33m\"\u001b[39m)\n",
      "\u001b[36mCell\u001b[39m\u001b[36m \u001b[39m\u001b[32mIn[9]\u001b[39m\u001b[32m, line 26\u001b[39m, in \u001b[36mextraer_datos_con_gemini\u001b[39m\u001b[34m(contexto, nombre_producto)\u001b[39m\n\u001b[32m      5\u001b[39m prompt = \u001b[33mf\u001b[39m\u001b[33m\"\"\"\u001b[39m\n\u001b[32m      6\u001b[39m \u001b[33mBasado en el siguiente contexto de búsqueda para el producto \u001b[39m\u001b[33m\"\u001b[39m\u001b[38;5;132;01m{\u001b[39;00mnombre_producto\u001b[38;5;132;01m}\u001b[39;00m\u001b[33m\"\u001b[39m\u001b[33m, \u001b[39m\n\u001b[32m      7\u001b[39m \u001b[33mextrae el alto, ancho, largo y peso.\u001b[39m\n\u001b[32m   (...)\u001b[39m\u001b[32m     22\u001b[39m \u001b[33m---\u001b[39m\n\u001b[32m     23\u001b[39m \u001b[33m\u001b[39m\u001b[33m\"\"\"\u001b[39m\n\u001b[32m     25\u001b[39m \u001b[38;5;28;01mtry\u001b[39;00m:\n\u001b[32m---> \u001b[39m\u001b[32m26\u001b[39m     response = \u001b[43mmodel\u001b[49m\u001b[43m.\u001b[49m\u001b[43mgenerate_content\u001b[49m\u001b[43m(\u001b[49m\u001b[43mprompt\u001b[49m\u001b[43m)\u001b[49m\n\u001b[32m     27\u001b[39m     \u001b[38;5;66;03m# Limpiar la respuesta para asegurar que sea un JSON válido\u001b[39;00m\n\u001b[32m     28\u001b[39m     json_text = response.text.strip().replace(\u001b[33m\"\u001b[39m\u001b[33m```json\u001b[39m\u001b[33m\"\u001b[39m, \u001b[33m\"\u001b[39m\u001b[33m\"\u001b[39m).replace(\u001b[33m\"\u001b[39m\u001b[33m```\u001b[39m\u001b[33m\"\u001b[39m, \u001b[33m\"\u001b[39m\u001b[33m\"\u001b[39m)\n",
      "\u001b[36mFile \u001b[39m\u001b[32m~/anaconda3/envs/llmops/lib/python3.12/site-packages/google/generativeai/generative_models.py:331\u001b[39m, in \u001b[36mGenerativeModel.generate_content\u001b[39m\u001b[34m(self, contents, generation_config, safety_settings, stream, tools, tool_config, request_options)\u001b[39m\n\u001b[32m    329\u001b[39m         \u001b[38;5;28;01mreturn\u001b[39;00m generation_types.GenerateContentResponse.from_iterator(iterator)\n\u001b[32m    330\u001b[39m     \u001b[38;5;28;01melse\u001b[39;00m:\n\u001b[32m--> \u001b[39m\u001b[32m331\u001b[39m         response = \u001b[38;5;28;43mself\u001b[39;49m\u001b[43m.\u001b[49m\u001b[43m_client\u001b[49m\u001b[43m.\u001b[49m\u001b[43mgenerate_content\u001b[49m\u001b[43m(\u001b[49m\n\u001b[32m    332\u001b[39m \u001b[43m            \u001b[49m\u001b[43mrequest\u001b[49m\u001b[43m,\u001b[49m\n\u001b[32m    333\u001b[39m \u001b[43m            \u001b[49m\u001b[43m*\u001b[49m\u001b[43m*\u001b[49m\u001b[43mrequest_options\u001b[49m\u001b[43m,\u001b[49m\n\u001b[32m    334\u001b[39m \u001b[43m        \u001b[49m\u001b[43m)\u001b[49m\n\u001b[32m    335\u001b[39m         \u001b[38;5;28;01mreturn\u001b[39;00m generation_types.GenerateContentResponse.from_response(response)\n\u001b[32m    336\u001b[39m \u001b[38;5;28;01mexcept\u001b[39;00m google.api_core.exceptions.InvalidArgument \u001b[38;5;28;01mas\u001b[39;00m e:\n",
      "\u001b[36mFile \u001b[39m\u001b[32m~/anaconda3/envs/llmops/lib/python3.12/site-packages/google/ai/generativelanguage_v1beta/services/generative_service/client.py:835\u001b[39m, in \u001b[36mGenerativeServiceClient.generate_content\u001b[39m\u001b[34m(self, request, model, contents, retry, timeout, metadata)\u001b[39m\n\u001b[32m    832\u001b[39m \u001b[38;5;28mself\u001b[39m._validate_universe_domain()\n\u001b[32m    834\u001b[39m \u001b[38;5;66;03m# Send the request.\u001b[39;00m\n\u001b[32m--> \u001b[39m\u001b[32m835\u001b[39m response = \u001b[43mrpc\u001b[49m\u001b[43m(\u001b[49m\n\u001b[32m    836\u001b[39m \u001b[43m    \u001b[49m\u001b[43mrequest\u001b[49m\u001b[43m,\u001b[49m\n\u001b[32m    837\u001b[39m \u001b[43m    \u001b[49m\u001b[43mretry\u001b[49m\u001b[43m=\u001b[49m\u001b[43mretry\u001b[49m\u001b[43m,\u001b[49m\n\u001b[32m    838\u001b[39m \u001b[43m    \u001b[49m\u001b[43mtimeout\u001b[49m\u001b[43m=\u001b[49m\u001b[43mtimeout\u001b[49m\u001b[43m,\u001b[49m\n\u001b[32m    839\u001b[39m \u001b[43m    \u001b[49m\u001b[43mmetadata\u001b[49m\u001b[43m=\u001b[49m\u001b[43mmetadata\u001b[49m\u001b[43m,\u001b[49m\n\u001b[32m    840\u001b[39m \u001b[43m\u001b[49m\u001b[43m)\u001b[49m\n\u001b[32m    842\u001b[39m \u001b[38;5;66;03m# Done; return the response.\u001b[39;00m\n\u001b[32m    843\u001b[39m \u001b[38;5;28;01mreturn\u001b[39;00m response\n",
      "\u001b[36mFile \u001b[39m\u001b[32m~/anaconda3/envs/llmops/lib/python3.12/site-packages/google/api_core/gapic_v1/method.py:131\u001b[39m, in \u001b[36m_GapicCallable.__call__\u001b[39m\u001b[34m(self, timeout, retry, compression, *args, **kwargs)\u001b[39m\n\u001b[32m    128\u001b[39m \u001b[38;5;28;01mif\u001b[39;00m \u001b[38;5;28mself\u001b[39m._compression \u001b[38;5;129;01mis\u001b[39;00m \u001b[38;5;129;01mnot\u001b[39;00m \u001b[38;5;28;01mNone\u001b[39;00m:\n\u001b[32m    129\u001b[39m     kwargs[\u001b[33m\"\u001b[39m\u001b[33mcompression\u001b[39m\u001b[33m\"\u001b[39m] = compression\n\u001b[32m--> \u001b[39m\u001b[32m131\u001b[39m \u001b[38;5;28;01mreturn\u001b[39;00m \u001b[43mwrapped_func\u001b[49m\u001b[43m(\u001b[49m\u001b[43m*\u001b[49m\u001b[43margs\u001b[49m\u001b[43m,\u001b[49m\u001b[43m \u001b[49m\u001b[43m*\u001b[49m\u001b[43m*\u001b[49m\u001b[43mkwargs\u001b[49m\u001b[43m)\u001b[49m\n",
      "\u001b[36mFile \u001b[39m\u001b[32m~/anaconda3/envs/llmops/lib/python3.12/site-packages/google/api_core/retry/retry_unary.py:294\u001b[39m, in \u001b[36mRetry.__call__.<locals>.retry_wrapped_func\u001b[39m\u001b[34m(*args, **kwargs)\u001b[39m\n\u001b[32m    290\u001b[39m target = functools.partial(func, *args, **kwargs)\n\u001b[32m    291\u001b[39m sleep_generator = exponential_sleep_generator(\n\u001b[32m    292\u001b[39m     \u001b[38;5;28mself\u001b[39m._initial, \u001b[38;5;28mself\u001b[39m._maximum, multiplier=\u001b[38;5;28mself\u001b[39m._multiplier\n\u001b[32m    293\u001b[39m )\n\u001b[32m--> \u001b[39m\u001b[32m294\u001b[39m \u001b[38;5;28;01mreturn\u001b[39;00m \u001b[43mretry_target\u001b[49m\u001b[43m(\u001b[49m\n\u001b[32m    295\u001b[39m \u001b[43m    \u001b[49m\u001b[43mtarget\u001b[49m\u001b[43m,\u001b[49m\n\u001b[32m    296\u001b[39m \u001b[43m    \u001b[49m\u001b[38;5;28;43mself\u001b[39;49m\u001b[43m.\u001b[49m\u001b[43m_predicate\u001b[49m\u001b[43m,\u001b[49m\n\u001b[32m    297\u001b[39m \u001b[43m    \u001b[49m\u001b[43msleep_generator\u001b[49m\u001b[43m,\u001b[49m\n\u001b[32m    298\u001b[39m \u001b[43m    \u001b[49m\u001b[43mtimeout\u001b[49m\u001b[43m=\u001b[49m\u001b[38;5;28;43mself\u001b[39;49m\u001b[43m.\u001b[49m\u001b[43m_timeout\u001b[49m\u001b[43m,\u001b[49m\n\u001b[32m    299\u001b[39m \u001b[43m    \u001b[49m\u001b[43mon_error\u001b[49m\u001b[43m=\u001b[49m\u001b[43mon_error\u001b[49m\u001b[43m,\u001b[49m\n\u001b[32m    300\u001b[39m \u001b[43m\u001b[49m\u001b[43m)\u001b[49m\n",
      "\u001b[36mFile \u001b[39m\u001b[32m~/anaconda3/envs/llmops/lib/python3.12/site-packages/google/api_core/retry/retry_unary.py:147\u001b[39m, in \u001b[36mretry_target\u001b[39m\u001b[34m(target, predicate, sleep_generator, timeout, on_error, exception_factory, **kwargs)\u001b[39m\n\u001b[32m    145\u001b[39m \u001b[38;5;28;01mwhile\u001b[39;00m \u001b[38;5;28;01mTrue\u001b[39;00m:\n\u001b[32m    146\u001b[39m     \u001b[38;5;28;01mtry\u001b[39;00m:\n\u001b[32m--> \u001b[39m\u001b[32m147\u001b[39m         result = \u001b[43mtarget\u001b[49m\u001b[43m(\u001b[49m\u001b[43m)\u001b[49m\n\u001b[32m    148\u001b[39m         \u001b[38;5;28;01mif\u001b[39;00m inspect.isawaitable(result):\n\u001b[32m    149\u001b[39m             warnings.warn(_ASYNC_RETRY_WARNING)\n",
      "\u001b[36mFile \u001b[39m\u001b[32m~/anaconda3/envs/llmops/lib/python3.12/site-packages/google/api_core/timeout.py:130\u001b[39m, in \u001b[36mTimeToDeadlineTimeout.__call__.<locals>.func_with_timeout\u001b[39m\u001b[34m(*args, **kwargs)\u001b[39m\n\u001b[32m    126\u001b[39m         remaining_timeout = \u001b[38;5;28mself\u001b[39m._timeout\n\u001b[32m    128\u001b[39m     kwargs[\u001b[33m\"\u001b[39m\u001b[33mtimeout\u001b[39m\u001b[33m\"\u001b[39m] = remaining_timeout\n\u001b[32m--> \u001b[39m\u001b[32m130\u001b[39m \u001b[38;5;28;01mreturn\u001b[39;00m \u001b[43mfunc\u001b[49m\u001b[43m(\u001b[49m\u001b[43m*\u001b[49m\u001b[43margs\u001b[49m\u001b[43m,\u001b[49m\u001b[43m \u001b[49m\u001b[43m*\u001b[49m\u001b[43m*\u001b[49m\u001b[43mkwargs\u001b[49m\u001b[43m)\u001b[49m\n",
      "\u001b[36mFile \u001b[39m\u001b[32m~/anaconda3/envs/llmops/lib/python3.12/site-packages/google/api_core/grpc_helpers.py:76\u001b[39m, in \u001b[36m_wrap_unary_errors.<locals>.error_remapped_callable\u001b[39m\u001b[34m(*args, **kwargs)\u001b[39m\n\u001b[32m     73\u001b[39m \u001b[38;5;129m@functools\u001b[39m.wraps(callable_)\n\u001b[32m     74\u001b[39m \u001b[38;5;28;01mdef\u001b[39;00m\u001b[38;5;250m \u001b[39m\u001b[34merror_remapped_callable\u001b[39m(*args, **kwargs):\n\u001b[32m     75\u001b[39m     \u001b[38;5;28;01mtry\u001b[39;00m:\n\u001b[32m---> \u001b[39m\u001b[32m76\u001b[39m         \u001b[38;5;28;01mreturn\u001b[39;00m \u001b[43mcallable_\u001b[49m\u001b[43m(\u001b[49m\u001b[43m*\u001b[49m\u001b[43margs\u001b[49m\u001b[43m,\u001b[49m\u001b[43m \u001b[49m\u001b[43m*\u001b[49m\u001b[43m*\u001b[49m\u001b[43mkwargs\u001b[49m\u001b[43m)\u001b[49m\n\u001b[32m     77\u001b[39m     \u001b[38;5;28;01mexcept\u001b[39;00m grpc.RpcError \u001b[38;5;28;01mas\u001b[39;00m exc:\n\u001b[32m     78\u001b[39m         \u001b[38;5;28;01mraise\u001b[39;00m exceptions.from_grpc_error(exc) \u001b[38;5;28;01mfrom\u001b[39;00m\u001b[38;5;250m \u001b[39m\u001b[34;01mexc\u001b[39;00m\n",
      "\u001b[36mFile \u001b[39m\u001b[32m~/anaconda3/envs/llmops/lib/python3.12/site-packages/grpc/_interceptor.py:277\u001b[39m, in \u001b[36m_UnaryUnaryMultiCallable.__call__\u001b[39m\u001b[34m(self, request, timeout, metadata, credentials, wait_for_ready, compression)\u001b[39m\n\u001b[32m    268\u001b[39m \u001b[38;5;28;01mdef\u001b[39;00m\u001b[38;5;250m \u001b[39m\u001b[34m__call__\u001b[39m(\n\u001b[32m    269\u001b[39m     \u001b[38;5;28mself\u001b[39m,\n\u001b[32m    270\u001b[39m     request: Any,\n\u001b[32m   (...)\u001b[39m\u001b[32m    275\u001b[39m     compression: Optional[grpc.Compression] = \u001b[38;5;28;01mNone\u001b[39;00m,\n\u001b[32m    276\u001b[39m ) -> Any:\n\u001b[32m--> \u001b[39m\u001b[32m277\u001b[39m     response, ignored_call = \u001b[38;5;28;43mself\u001b[39;49m\u001b[43m.\u001b[49m\u001b[43m_with_call\u001b[49m\u001b[43m(\u001b[49m\n\u001b[32m    278\u001b[39m \u001b[43m        \u001b[49m\u001b[43mrequest\u001b[49m\u001b[43m,\u001b[49m\n\u001b[32m    279\u001b[39m \u001b[43m        \u001b[49m\u001b[43mtimeout\u001b[49m\u001b[43m=\u001b[49m\u001b[43mtimeout\u001b[49m\u001b[43m,\u001b[49m\n\u001b[32m    280\u001b[39m \u001b[43m        \u001b[49m\u001b[43mmetadata\u001b[49m\u001b[43m=\u001b[49m\u001b[43mmetadata\u001b[49m\u001b[43m,\u001b[49m\n\u001b[32m    281\u001b[39m \u001b[43m        \u001b[49m\u001b[43mcredentials\u001b[49m\u001b[43m=\u001b[49m\u001b[43mcredentials\u001b[49m\u001b[43m,\u001b[49m\n\u001b[32m    282\u001b[39m \u001b[43m        \u001b[49m\u001b[43mwait_for_ready\u001b[49m\u001b[43m=\u001b[49m\u001b[43mwait_for_ready\u001b[49m\u001b[43m,\u001b[49m\n\u001b[32m    283\u001b[39m \u001b[43m        \u001b[49m\u001b[43mcompression\u001b[49m\u001b[43m=\u001b[49m\u001b[43mcompression\u001b[49m\u001b[43m,\u001b[49m\n\u001b[32m    284\u001b[39m \u001b[43m    \u001b[49m\u001b[43m)\u001b[49m\n\u001b[32m    285\u001b[39m     \u001b[38;5;28;01mreturn\u001b[39;00m response\n",
      "\u001b[36mFile \u001b[39m\u001b[32m~/anaconda3/envs/llmops/lib/python3.12/site-packages/grpc/_interceptor.py:329\u001b[39m, in \u001b[36m_UnaryUnaryMultiCallable._with_call\u001b[39m\u001b[34m(self, request, timeout, metadata, credentials, wait_for_ready, compression)\u001b[39m\n\u001b[32m    326\u001b[39m     \u001b[38;5;28;01mexcept\u001b[39;00m \u001b[38;5;167;01mException\u001b[39;00m \u001b[38;5;28;01mas\u001b[39;00m exception:  \u001b[38;5;66;03m# pylint:disable=broad-except\u001b[39;00m\n\u001b[32m    327\u001b[39m         \u001b[38;5;28;01mreturn\u001b[39;00m _FailureOutcome(exception, sys.exc_info()[\u001b[32m2\u001b[39m])\n\u001b[32m--> \u001b[39m\u001b[32m329\u001b[39m call = \u001b[38;5;28;43mself\u001b[39;49m\u001b[43m.\u001b[49m\u001b[43m_interceptor\u001b[49m\u001b[43m.\u001b[49m\u001b[43mintercept_unary_unary\u001b[49m\u001b[43m(\u001b[49m\n\u001b[32m    330\u001b[39m \u001b[43m    \u001b[49m\u001b[43mcontinuation\u001b[49m\u001b[43m,\u001b[49m\u001b[43m \u001b[49m\u001b[43mclient_call_details\u001b[49m\u001b[43m,\u001b[49m\u001b[43m \u001b[49m\u001b[43mrequest\u001b[49m\n\u001b[32m    331\u001b[39m \u001b[43m\u001b[49m\u001b[43m)\u001b[49m\n\u001b[32m    332\u001b[39m \u001b[38;5;28;01mreturn\u001b[39;00m call.result(), call\n",
      "\u001b[36mFile \u001b[39m\u001b[32m~/anaconda3/envs/llmops/lib/python3.12/site-packages/google/ai/generativelanguage_v1beta/services/generative_service/transports/grpc.py:79\u001b[39m, in \u001b[36m_LoggingClientInterceptor.intercept_unary_unary\u001b[39m\u001b[34m(self, continuation, client_call_details, request)\u001b[39m\n\u001b[32m     64\u001b[39m     grpc_request = {\n\u001b[32m     65\u001b[39m         \u001b[33m\"\u001b[39m\u001b[33mpayload\u001b[39m\u001b[33m\"\u001b[39m: request_payload,\n\u001b[32m     66\u001b[39m         \u001b[33m\"\u001b[39m\u001b[33mrequestMethod\u001b[39m\u001b[33m\"\u001b[39m: \u001b[33m\"\u001b[39m\u001b[33mgrpc\u001b[39m\u001b[33m\"\u001b[39m,\n\u001b[32m     67\u001b[39m         \u001b[33m\"\u001b[39m\u001b[33mmetadata\u001b[39m\u001b[33m\"\u001b[39m: \u001b[38;5;28mdict\u001b[39m(request_metadata),\n\u001b[32m     68\u001b[39m     }\n\u001b[32m     69\u001b[39m     _LOGGER.debug(\n\u001b[32m     70\u001b[39m         \u001b[33mf\u001b[39m\u001b[33m\"\u001b[39m\u001b[33mSending request for \u001b[39m\u001b[38;5;132;01m{\u001b[39;00mclient_call_details.method\u001b[38;5;132;01m}\u001b[39;00m\u001b[33m\"\u001b[39m,\n\u001b[32m     71\u001b[39m         extra={\n\u001b[32m   (...)\u001b[39m\u001b[32m     76\u001b[39m         },\n\u001b[32m     77\u001b[39m     )\n\u001b[32m---> \u001b[39m\u001b[32m79\u001b[39m response = \u001b[43mcontinuation\u001b[49m\u001b[43m(\u001b[49m\u001b[43mclient_call_details\u001b[49m\u001b[43m,\u001b[49m\u001b[43m \u001b[49m\u001b[43mrequest\u001b[49m\u001b[43m)\u001b[49m\n\u001b[32m     80\u001b[39m \u001b[38;5;28;01mif\u001b[39;00m logging_enabled:  \u001b[38;5;66;03m# pragma: NO COVER\u001b[39;00m\n\u001b[32m     81\u001b[39m     response_metadata = response.trailing_metadata()\n",
      "\u001b[36mFile \u001b[39m\u001b[32m~/anaconda3/envs/llmops/lib/python3.12/site-packages/grpc/_interceptor.py:315\u001b[39m, in \u001b[36m_UnaryUnaryMultiCallable._with_call.<locals>.continuation\u001b[39m\u001b[34m(new_details, request)\u001b[39m\n\u001b[32m    306\u001b[39m (\n\u001b[32m    307\u001b[39m     new_method,\n\u001b[32m    308\u001b[39m     new_timeout,\n\u001b[32m   (...)\u001b[39m\u001b[32m    312\u001b[39m     new_compression,\n\u001b[32m    313\u001b[39m ) = _unwrap_client_call_details(new_details, client_call_details)\n\u001b[32m    314\u001b[39m \u001b[38;5;28;01mtry\u001b[39;00m:\n\u001b[32m--> \u001b[39m\u001b[32m315\u001b[39m     response, call = \u001b[38;5;28;43mself\u001b[39;49m\u001b[43m.\u001b[49m\u001b[43m_thunk\u001b[49m\u001b[43m(\u001b[49m\u001b[43mnew_method\u001b[49m\u001b[43m)\u001b[49m\u001b[43m.\u001b[49m\u001b[43mwith_call\u001b[49m\u001b[43m(\u001b[49m\n\u001b[32m    316\u001b[39m \u001b[43m        \u001b[49m\u001b[43mrequest\u001b[49m\u001b[43m,\u001b[49m\n\u001b[32m    317\u001b[39m \u001b[43m        \u001b[49m\u001b[43mtimeout\u001b[49m\u001b[43m=\u001b[49m\u001b[43mnew_timeout\u001b[49m\u001b[43m,\u001b[49m\n\u001b[32m    318\u001b[39m \u001b[43m        \u001b[49m\u001b[43mmetadata\u001b[49m\u001b[43m=\u001b[49m\u001b[43mnew_metadata\u001b[49m\u001b[43m,\u001b[49m\n\u001b[32m    319\u001b[39m \u001b[43m        \u001b[49m\u001b[43mcredentials\u001b[49m\u001b[43m=\u001b[49m\u001b[43mnew_credentials\u001b[49m\u001b[43m,\u001b[49m\n\u001b[32m    320\u001b[39m \u001b[43m        \u001b[49m\u001b[43mwait_for_ready\u001b[49m\u001b[43m=\u001b[49m\u001b[43mnew_wait_for_ready\u001b[49m\u001b[43m,\u001b[49m\n\u001b[32m    321\u001b[39m \u001b[43m        \u001b[49m\u001b[43mcompression\u001b[49m\u001b[43m=\u001b[49m\u001b[43mnew_compression\u001b[49m\u001b[43m,\u001b[49m\n\u001b[32m    322\u001b[39m \u001b[43m    \u001b[49m\u001b[43m)\u001b[49m\n\u001b[32m    323\u001b[39m     \u001b[38;5;28;01mreturn\u001b[39;00m _UnaryOutcome(response, call)\n\u001b[32m    324\u001b[39m \u001b[38;5;28;01mexcept\u001b[39;00m grpc.RpcError \u001b[38;5;28;01mas\u001b[39;00m rpc_error:\n",
      "\u001b[36mFile \u001b[39m\u001b[32m~/anaconda3/envs/llmops/lib/python3.12/site-packages/grpc/_channel.py:1192\u001b[39m, in \u001b[36m_UnaryUnaryMultiCallable.with_call\u001b[39m\u001b[34m(self, request, timeout, metadata, credentials, wait_for_ready, compression)\u001b[39m\n\u001b[32m   1183\u001b[39m \u001b[38;5;28;01mdef\u001b[39;00m\u001b[38;5;250m \u001b[39m\u001b[34mwith_call\u001b[39m(\n\u001b[32m   1184\u001b[39m     \u001b[38;5;28mself\u001b[39m,\n\u001b[32m   1185\u001b[39m     request: Any,\n\u001b[32m   (...)\u001b[39m\u001b[32m   1190\u001b[39m     compression: Optional[grpc.Compression] = \u001b[38;5;28;01mNone\u001b[39;00m,\n\u001b[32m   1191\u001b[39m ) -> Tuple[Any, grpc.Call]:\n\u001b[32m-> \u001b[39m\u001b[32m1192\u001b[39m     state, call = \u001b[38;5;28;43mself\u001b[39;49m\u001b[43m.\u001b[49m\u001b[43m_blocking\u001b[49m\u001b[43m(\u001b[49m\n\u001b[32m   1193\u001b[39m \u001b[43m        \u001b[49m\u001b[43mrequest\u001b[49m\u001b[43m,\u001b[49m\u001b[43m \u001b[49m\u001b[43mtimeout\u001b[49m\u001b[43m,\u001b[49m\u001b[43m \u001b[49m\u001b[43mmetadata\u001b[49m\u001b[43m,\u001b[49m\u001b[43m \u001b[49m\u001b[43mcredentials\u001b[49m\u001b[43m,\u001b[49m\u001b[43m \u001b[49m\u001b[43mwait_for_ready\u001b[49m\u001b[43m,\u001b[49m\u001b[43m \u001b[49m\u001b[43mcompression\u001b[49m\n\u001b[32m   1194\u001b[39m \u001b[43m    \u001b[49m\u001b[43m)\u001b[49m\n\u001b[32m   1195\u001b[39m     \u001b[38;5;28;01mreturn\u001b[39;00m _end_unary_response_blocking(state, call, \u001b[38;5;28;01mTrue\u001b[39;00m, \u001b[38;5;28;01mNone\u001b[39;00m)\n",
      "\u001b[36mFile \u001b[39m\u001b[32m~/anaconda3/envs/llmops/lib/python3.12/site-packages/grpc/_channel.py:1165\u001b[39m, in \u001b[36m_UnaryUnaryMultiCallable._blocking\u001b[39m\u001b[34m(self, request, timeout, metadata, credentials, wait_for_ready, compression)\u001b[39m\n\u001b[32m   1148\u001b[39m state.target = _common.decode(\u001b[38;5;28mself\u001b[39m._target)\n\u001b[32m   1149\u001b[39m call = \u001b[38;5;28mself\u001b[39m._channel.segregated_call(\n\u001b[32m   1150\u001b[39m     cygrpc.PropagationConstants.GRPC_PROPAGATE_DEFAULTS,\n\u001b[32m   1151\u001b[39m     \u001b[38;5;28mself\u001b[39m._method,\n\u001b[32m   (...)\u001b[39m\u001b[32m   1163\u001b[39m     \u001b[38;5;28mself\u001b[39m._registered_call_handle,\n\u001b[32m   1164\u001b[39m )\n\u001b[32m-> \u001b[39m\u001b[32m1165\u001b[39m event = \u001b[43mcall\u001b[49m\u001b[43m.\u001b[49m\u001b[43mnext_event\u001b[49m\u001b[43m(\u001b[49m\u001b[43m)\u001b[49m\n\u001b[32m   1166\u001b[39m _handle_event(event, state, \u001b[38;5;28mself\u001b[39m._response_deserializer)\n\u001b[32m   1167\u001b[39m \u001b[38;5;28;01mreturn\u001b[39;00m state, call\n",
      "\u001b[36mFile \u001b[39m\u001b[32msrc/python/grpcio/grpc/_cython/_cygrpc/channel.pyx.pxi:388\u001b[39m, in \u001b[36mgrpc._cython.cygrpc.SegregatedCall.next_event\u001b[39m\u001b[34m()\u001b[39m\n",
      "\u001b[36mFile \u001b[39m\u001b[32msrc/python/grpcio/grpc/_cython/_cygrpc/channel.pyx.pxi:211\u001b[39m, in \u001b[36mgrpc._cython.cygrpc._next_call_event\u001b[39m\u001b[34m()\u001b[39m\n",
      "\u001b[36mFile \u001b[39m\u001b[32msrc/python/grpcio/grpc/_cython/_cygrpc/channel.pyx.pxi:205\u001b[39m, in \u001b[36mgrpc._cython.cygrpc._next_call_event\u001b[39m\u001b[34m()\u001b[39m\n",
      "\u001b[36mFile \u001b[39m\u001b[32msrc/python/grpcio/grpc/_cython/_cygrpc/completion_queue.pyx.pxi:97\u001b[39m, in \u001b[36mgrpc._cython.cygrpc._latent_event\u001b[39m\u001b[34m()\u001b[39m\n",
      "\u001b[36mFile \u001b[39m\u001b[32msrc/python/grpcio/grpc/_cython/_cygrpc/completion_queue.pyx.pxi:80\u001b[39m, in \u001b[36mgrpc._cython.cygrpc._internal_latent_event\u001b[39m\u001b[34m()\u001b[39m\n",
      "\u001b[36mFile \u001b[39m\u001b[32msrc/python/grpcio/grpc/_cython/_cygrpc/completion_queue.pyx.pxi:61\u001b[39m, in \u001b[36mgrpc._cython.cygrpc._next\u001b[39m\u001b[34m()\u001b[39m\n",
      "\u001b[31mKeyboardInterrupt\u001b[39m: "
     ]
    }
   ],
   "source": [
    "productos = []\n",
    "for row in df.itertuples():\n",
    "    print(f\"\\nProcesando producto: {row.name}\")\n",
    "    dimensiones = buscar_dimensiones_producto(row.name)\n",
    "    if dimensiones:\n",
    "        try:\n",
    "            producto = ProductDimensions(**dimensiones)\n",
    "            print(f\"  - Dimensiones extraídas: {producto}\")\n",
    "            id = row.id\n",
    "            ambito = row.ambito\n",
    "            operacion = row.tipo_servicio\n",
    "            alto_valor = producto.alto\n",
    "            ancho_valor = producto.ancho\n",
    "            largo_valor = producto.largo\n",
    "            peso_valor = producto.peso\n",
    "            try:\n",
    "                peso_aforado = ancho_valor * largo_valor * alto_valor / 4000 # Peso aforado en kg\n",
    "            except Exception as e:\n",
    "                print(f\"  - Error al calcular el peso aforado: {e}\")\n",
    "                peso_aforado = 0\n",
    "            try:    \n",
    "                peso_facturable = max(peso_valor, peso_aforado) # Peso facturable en kg\n",
    "            except Exception as e:\n",
    "                print(f\"  - Error al calcular el peso facturable: {e}\")\n",
    "                peso_facturable = 0\n",
    "            tarifa_real = tarifas[\n",
    "                (tarifas['ambito'] == ambito) & \n",
    "                (tarifas['tipo_de_servicio'] == operacion) & \n",
    "                (tarifas['rango_desde'] <= peso_facturable) & \n",
    "                (tarifas['rango_hasta'] >= peso_facturable)\n",
    "            ]\n",
    "            datos = {\n",
    "                \"id\": id,\n",
    "                \"ambito\": ambito,\n",
    "                \"tipo_servicio\": operacion,\n",
    "                \"alto_cm\": alto_valor,\n",
    "                \"ancho_cm\": ancho_valor,\n",
    "                \"largo_cm\": largo_valor,\n",
    "                \"peso_g\": peso_valor,\n",
    "                \"peso_aforado_kg\": peso_aforado,\n",
    "                \"peso_facturable_kg\": peso_facturable,\n",
    "                \"tarifa_real\": tarifa_real['tarifa'].values[0] if not tarifa_real.empty else np.nan\n",
    "            }\n",
    "            print(datos)\n",
    "            productos.append(datos)\n",
    "            \n",
    "        except Exception as e:\n",
    "            print(f\"  - Error al validar las dimensiones con Pydantic: {e}\")\n",
    "    else:\n",
    "        print(\"  - No se pudieron extraer dimensiones para este producto.\")"
   ]
  }
 ],
 "metadata": {
  "kernelspec": {
   "display_name": "llmops",
   "language": "python",
   "name": "python3"
  },
  "language_info": {
   "codemirror_mode": {
    "name": "ipython",
    "version": 3
   },
   "file_extension": ".py",
   "mimetype": "text/x-python",
   "name": "python",
   "nbconvert_exporter": "python",
   "pygments_lexer": "ipython3",
   "version": "3.12.11"
  }
 },
 "nbformat": 4,
 "nbformat_minor": 5
}
